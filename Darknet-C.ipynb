{
 "cells": [
  {
   "cell_type": "markdown",
   "metadata": {},
   "source": [
    "# Darknet: Open Source Neural Networks in C\n",
    "\n",
    "Darknet is an open source neural network framework written in C and CUDA. It is fast, easy to install, and supports CPU and GPU computation"
   ]
  },
  {
   "cell_type": "code",
   "execution_count": 2,
   "metadata": {
    "collapsed": false
   },
   "outputs": [
    {
     "name": "stderr",
     "output_type": "stream",
     "text": [
      "usage: ./darknet <function>\n"
     ]
    }
   ],
   "source": [
    "%%bash\n",
    "./darknet"
   ]
  },
  {
   "cell_type": "code",
   "execution_count": 3,
   "metadata": {
    "collapsed": false
   },
   "outputs": [
    {
     "name": "stdout",
     "output_type": "stream",
     "text": [
      "L2 Norm: 371.979095\n"
     ]
    },
    {
     "name": "stderr",
     "output_type": "stream",
     "text": [
      "Not compiled with OpenCV, saving to Original.png instead\n",
      "Not compiled with OpenCV, saving to Gray.png instead\n",
      "Not compiled with OpenCV, saving to C1.png instead\n",
      "Not compiled with OpenCV, saving to C2.png instead\n",
      "Not compiled with OpenCV, saving to C3.png instead\n",
      "Not compiled with OpenCV, saving to C4.png instead\n"
     ]
    }
   ],
   "source": [
    "%%bash\n",
    "./darknet imtest data/eagle.jpg"
   ]
  },
  {
   "cell_type": "code",
   "execution_count": null,
   "metadata": {
    "collapsed": true
   },
   "outputs": [],
   "source": []
  }
 ],
 "metadata": {
  "kernelspec": {
   "display_name": "Python [conda root]",
   "language": "python",
   "name": "conda-root-py"
  },
  "language_info": {
   "codemirror_mode": {
    "name": "ipython",
    "version": 2
   },
   "file_extension": ".py",
   "mimetype": "text/x-python",
   "name": "python",
   "nbconvert_exporter": "python",
   "pygments_lexer": "ipython2",
   "version": "2.7.13"
  }
 },
 "nbformat": 4,
 "nbformat_minor": 2
}
